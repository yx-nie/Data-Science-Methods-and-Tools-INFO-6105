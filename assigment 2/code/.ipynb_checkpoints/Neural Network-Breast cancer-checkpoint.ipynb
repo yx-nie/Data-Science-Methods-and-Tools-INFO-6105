{
 "cells": [
  {
   "cell_type": "code",
   "execution_count": 1,
   "id": "6e7b6af8",
   "metadata": {},
   "outputs": [
    {
     "name": "stdout",
     "output_type": "stream",
     "text": [
      "/Users/yongxingnie/Desktop/data science methods and tools/assigment 2/data/.DS_Store\n",
      "/Users/yongxingnie/Desktop/data science methods and tools/assigment 2/data/Breast Cancer Wisconsin Dataset.csv\n"
     ]
    }
   ],
   "source": [
    "import numpy as np\n",
    "import pandas as pd\n",
    "import matplotlib.pyplot as plt\n",
    "import seaborn as sns\n",
    "%matplotlib inline\n",
    "import os\n",
    "for dirname, _, filenames in os.walk('/Users/yongxingnie/Desktop/data science methods and tools/assigment 2/data'):\n",
    "    for filename in filenames:\n",
    "        print(os.path.join(dirname, filename))"
   ]
  },
  {
   "cell_type": "code",
   "execution_count": 2,
   "id": "10ae0624",
   "metadata": {},
   "outputs": [],
   "source": [
    "import warnings\n",
    "warnings.filterwarnings('ignore')"
   ]
  },
  {
   "cell_type": "code",
   "execution_count": 3,
   "id": "808902b7",
   "metadata": {},
   "outputs": [],
   "source": [
    "data='/Users/yongxingnie/Desktop/data science methods and tools/assigment 2/data/Breast Cancer Wisconsin Dataset.csv'\n",
    "df=pd.DataFrame(pd.read_csv(data))"
   ]
  },
  {
   "cell_type": "code",
   "execution_count": 4,
   "id": "a8f140d0",
   "metadata": {},
   "outputs": [
    {
     "data": {
      "text/html": [
       "<div>\n",
       "<style scoped>\n",
       "    .dataframe tbody tr th:only-of-type {\n",
       "        vertical-align: middle;\n",
       "    }\n",
       "\n",
       "    .dataframe tbody tr th {\n",
       "        vertical-align: top;\n",
       "    }\n",
       "\n",
       "    .dataframe thead th {\n",
       "        text-align: right;\n",
       "    }\n",
       "</style>\n",
       "<table border=\"1\" class=\"dataframe\">\n",
       "  <thead>\n",
       "    <tr style=\"text-align: right;\">\n",
       "      <th></th>\n",
       "      <th>diagnosis</th>\n",
       "      <th>radius_mean</th>\n",
       "      <th>texture_mean</th>\n",
       "      <th>perimeter_mean</th>\n",
       "      <th>area_mean</th>\n",
       "      <th>smoothness_mean</th>\n",
       "      <th>compactness_mean</th>\n",
       "      <th>concavity_mean</th>\n",
       "      <th>concave points_mean</th>\n",
       "      <th>symmetry_mean</th>\n",
       "      <th>fractal_dimension_mean</th>\n",
       "    </tr>\n",
       "  </thead>\n",
       "  <tbody>\n",
       "    <tr>\n",
       "      <th>0</th>\n",
       "      <td>M</td>\n",
       "      <td>17.99</td>\n",
       "      <td>10.38</td>\n",
       "      <td>122.80</td>\n",
       "      <td>1001.0</td>\n",
       "      <td>0.11840</td>\n",
       "      <td>0.27760</td>\n",
       "      <td>0.3001</td>\n",
       "      <td>0.14710</td>\n",
       "      <td>0.2419</td>\n",
       "      <td>0.07871</td>\n",
       "    </tr>\n",
       "    <tr>\n",
       "      <th>1</th>\n",
       "      <td>M</td>\n",
       "      <td>20.57</td>\n",
       "      <td>17.77</td>\n",
       "      <td>132.90</td>\n",
       "      <td>1326.0</td>\n",
       "      <td>0.08474</td>\n",
       "      <td>0.07864</td>\n",
       "      <td>0.0869</td>\n",
       "      <td>0.07017</td>\n",
       "      <td>0.1812</td>\n",
       "      <td>0.05667</td>\n",
       "    </tr>\n",
       "    <tr>\n",
       "      <th>2</th>\n",
       "      <td>M</td>\n",
       "      <td>19.69</td>\n",
       "      <td>21.25</td>\n",
       "      <td>130.00</td>\n",
       "      <td>1203.0</td>\n",
       "      <td>0.10960</td>\n",
       "      <td>0.15990</td>\n",
       "      <td>0.1974</td>\n",
       "      <td>0.12790</td>\n",
       "      <td>0.2069</td>\n",
       "      <td>0.05999</td>\n",
       "    </tr>\n",
       "    <tr>\n",
       "      <th>3</th>\n",
       "      <td>M</td>\n",
       "      <td>11.42</td>\n",
       "      <td>20.38</td>\n",
       "      <td>77.58</td>\n",
       "      <td>386.1</td>\n",
       "      <td>0.14250</td>\n",
       "      <td>0.28390</td>\n",
       "      <td>0.2414</td>\n",
       "      <td>0.10520</td>\n",
       "      <td>0.2597</td>\n",
       "      <td>0.09744</td>\n",
       "    </tr>\n",
       "    <tr>\n",
       "      <th>4</th>\n",
       "      <td>M</td>\n",
       "      <td>20.29</td>\n",
       "      <td>14.34</td>\n",
       "      <td>135.10</td>\n",
       "      <td>1297.0</td>\n",
       "      <td>0.10030</td>\n",
       "      <td>0.13280</td>\n",
       "      <td>0.1980</td>\n",
       "      <td>0.10430</td>\n",
       "      <td>0.1809</td>\n",
       "      <td>0.05883</td>\n",
       "    </tr>\n",
       "  </tbody>\n",
       "</table>\n",
       "</div>"
      ],
      "text/plain": [
       "  diagnosis  radius_mean  texture_mean  perimeter_mean  area_mean  \\\n",
       "0         M        17.99         10.38          122.80     1001.0   \n",
       "1         M        20.57         17.77          132.90     1326.0   \n",
       "2         M        19.69         21.25          130.00     1203.0   \n",
       "3         M        11.42         20.38           77.58      386.1   \n",
       "4         M        20.29         14.34          135.10     1297.0   \n",
       "\n",
       "   smoothness_mean  compactness_mean  concavity_mean  concave points_mean  \\\n",
       "0          0.11840           0.27760          0.3001              0.14710   \n",
       "1          0.08474           0.07864          0.0869              0.07017   \n",
       "2          0.10960           0.15990          0.1974              0.12790   \n",
       "3          0.14250           0.28390          0.2414              0.10520   \n",
       "4          0.10030           0.13280          0.1980              0.10430   \n",
       "\n",
       "   symmetry_mean  fractal_dimension_mean  \n",
       "0         0.2419                 0.07871  \n",
       "1         0.1812                 0.05667  \n",
       "2         0.2069                 0.05999  \n",
       "3         0.2597                 0.09744  \n",
       "4         0.1809                 0.05883  "
      ]
     },
     "execution_count": 4,
     "metadata": {},
     "output_type": "execute_result"
    }
   ],
   "source": [
    "df.drop(['radius_se', 'texture_se','perimeter_se','area_se','smoothness_se','compactness_se','concavity_se','concave points_se','symmetry_se','fractal_dimension_se','radius_worst','texture_worst','perimeter_worst','area_worst','smoothness_worst','compactness_worst','concavity_worst','concave points_worst','symmetry_worst','fractal_dimension_worst','Unnamed: 32'], axis=1, inplace=True)\n",
    "df.drop(['id'], axis=1, inplace=True)\n",
    "df.head()"
   ]
  },
  {
   "cell_type": "code",
   "execution_count": 5,
   "id": "b6e679da",
   "metadata": {},
   "outputs": [
    {
     "data": {
      "text/plain": [
       "Index(['diagnosis', 'radius', 'texture', 'perimeter', 'area', 'smoothness',\n",
       "       'compactness', 'concavity', 'concave_points', 'symmetry',\n",
       "       'fractal_dimension'],\n",
       "      dtype='object')"
      ]
     },
     "execution_count": 5,
     "metadata": {},
     "output_type": "execute_result"
    }
   ],
   "source": [
    "col_names=['diagnosis','radius','texture','perimeter','area','smoothness','compactness','concavity','concave_points'\n",
    "         ,'symmetry','fractal_dimension']\n",
    "df.columns=col_names\n",
    "df.columns"
   ]
  },
  {
   "cell_type": "code",
   "execution_count": 6,
   "id": "c99f23ae",
   "metadata": {},
   "outputs": [
    {
     "data": {
      "text/html": [
       "<div>\n",
       "<style scoped>\n",
       "    .dataframe tbody tr th:only-of-type {\n",
       "        vertical-align: middle;\n",
       "    }\n",
       "\n",
       "    .dataframe tbody tr th {\n",
       "        vertical-align: top;\n",
       "    }\n",
       "\n",
       "    .dataframe thead th {\n",
       "        text-align: right;\n",
       "    }\n",
       "</style>\n",
       "<table border=\"1\" class=\"dataframe\">\n",
       "  <thead>\n",
       "    <tr style=\"text-align: right;\">\n",
       "      <th></th>\n",
       "      <th>diagnosis</th>\n",
       "      <th>radius</th>\n",
       "      <th>texture</th>\n",
       "      <th>perimeter</th>\n",
       "      <th>area</th>\n",
       "      <th>smoothness</th>\n",
       "      <th>compactness</th>\n",
       "      <th>concavity</th>\n",
       "      <th>concave_points</th>\n",
       "      <th>symmetry</th>\n",
       "      <th>fractal_dimension</th>\n",
       "    </tr>\n",
       "  </thead>\n",
       "  <tbody>\n",
       "    <tr>\n",
       "      <th>0</th>\n",
       "      <td>1</td>\n",
       "      <td>17.99</td>\n",
       "      <td>10.38</td>\n",
       "      <td>122.80</td>\n",
       "      <td>1001.0</td>\n",
       "      <td>0.11840</td>\n",
       "      <td>0.27760</td>\n",
       "      <td>0.3001</td>\n",
       "      <td>0.14710</td>\n",
       "      <td>0.2419</td>\n",
       "      <td>0.07871</td>\n",
       "    </tr>\n",
       "    <tr>\n",
       "      <th>1</th>\n",
       "      <td>1</td>\n",
       "      <td>20.57</td>\n",
       "      <td>17.77</td>\n",
       "      <td>132.90</td>\n",
       "      <td>1326.0</td>\n",
       "      <td>0.08474</td>\n",
       "      <td>0.07864</td>\n",
       "      <td>0.0869</td>\n",
       "      <td>0.07017</td>\n",
       "      <td>0.1812</td>\n",
       "      <td>0.05667</td>\n",
       "    </tr>\n",
       "    <tr>\n",
       "      <th>2</th>\n",
       "      <td>1</td>\n",
       "      <td>19.69</td>\n",
       "      <td>21.25</td>\n",
       "      <td>130.00</td>\n",
       "      <td>1203.0</td>\n",
       "      <td>0.10960</td>\n",
       "      <td>0.15990</td>\n",
       "      <td>0.1974</td>\n",
       "      <td>0.12790</td>\n",
       "      <td>0.2069</td>\n",
       "      <td>0.05999</td>\n",
       "    </tr>\n",
       "    <tr>\n",
       "      <th>3</th>\n",
       "      <td>1</td>\n",
       "      <td>11.42</td>\n",
       "      <td>20.38</td>\n",
       "      <td>77.58</td>\n",
       "      <td>386.1</td>\n",
       "      <td>0.14250</td>\n",
       "      <td>0.28390</td>\n",
       "      <td>0.2414</td>\n",
       "      <td>0.10520</td>\n",
       "      <td>0.2597</td>\n",
       "      <td>0.09744</td>\n",
       "    </tr>\n",
       "    <tr>\n",
       "      <th>4</th>\n",
       "      <td>1</td>\n",
       "      <td>20.29</td>\n",
       "      <td>14.34</td>\n",
       "      <td>135.10</td>\n",
       "      <td>1297.0</td>\n",
       "      <td>0.10030</td>\n",
       "      <td>0.13280</td>\n",
       "      <td>0.1980</td>\n",
       "      <td>0.10430</td>\n",
       "      <td>0.1809</td>\n",
       "      <td>0.05883</td>\n",
       "    </tr>\n",
       "  </tbody>\n",
       "</table>\n",
       "</div>"
      ],
      "text/plain": [
       "   diagnosis  radius  texture  perimeter    area  smoothness  compactness  \\\n",
       "0          1   17.99    10.38     122.80  1001.0     0.11840      0.27760   \n",
       "1          1   20.57    17.77     132.90  1326.0     0.08474      0.07864   \n",
       "2          1   19.69    21.25     130.00  1203.0     0.10960      0.15990   \n",
       "3          1   11.42    20.38      77.58   386.1     0.14250      0.28390   \n",
       "4          1   20.29    14.34     135.10  1297.0     0.10030      0.13280   \n",
       "\n",
       "   concavity  concave_points  symmetry  fractal_dimension  \n",
       "0     0.3001         0.14710    0.2419            0.07871  \n",
       "1     0.0869         0.07017    0.1812            0.05667  \n",
       "2     0.1974         0.12790    0.2069            0.05999  \n",
       "3     0.2414         0.10520    0.2597            0.09744  \n",
       "4     0.1980         0.10430    0.1809            0.05883  "
      ]
     },
     "execution_count": 6,
     "metadata": {},
     "output_type": "execute_result"
    }
   ],
   "source": [
    "df['diagnosis']=df['diagnosis'].map({'B':0,'M':1})\n",
    "\n",
    "df.head()"
   ]
  },
  {
   "cell_type": "code",
   "execution_count": 7,
   "id": "6efc3369",
   "metadata": {},
   "outputs": [],
   "source": [
    "X = df.drop(['diagnosis'], axis=1)\n",
    "y = df['diagnosis']"
   ]
  },
  {
   "cell_type": "code",
   "execution_count": 8,
   "id": "808b678d",
   "metadata": {},
   "outputs": [],
   "source": [
    "from sklearn.preprocessing import LabelEncoder\n",
    "labelencoder_X_1 = LabelEncoder()\n",
    "y = labelencoder_X_1.fit_transform(y)"
   ]
  },
  {
   "cell_type": "code",
   "execution_count": 9,
   "id": "8cf219f6",
   "metadata": {},
   "outputs": [],
   "source": [
    "from sklearn.model_selection import train_test_split\n",
    "X_train, X_test, y_train, y_test = train_test_split(X, y, test_size = 0.2, random_state = 0)"
   ]
  },
  {
   "cell_type": "code",
   "execution_count": 10,
   "id": "23b917b6",
   "metadata": {},
   "outputs": [],
   "source": [
    "from sklearn.preprocessing import StandardScaler\n",
    "sc = StandardScaler()\n",
    "X_train = sc.fit_transform(X_train)\n",
    "X_test = sc.transform(X_test)"
   ]
  },
  {
   "cell_type": "code",
   "execution_count": 13,
   "id": "cfe8c99b",
   "metadata": {},
   "outputs": [
    {
     "name": "stderr",
     "output_type": "stream",
     "text": [
      "2022-10-18 23:11:52.622018: I tensorflow/core/platform/cpu_feature_guard.cc:193] This TensorFlow binary is optimized with oneAPI Deep Neural Network Library (oneDNN) to use the following CPU instructions in performance-critical operations:  AVX2 AVX512F AVX512_VNNI FMA\n",
      "To enable them in other operations, rebuild TensorFlow with the appropriate compiler flags.\n"
     ]
    }
   ],
   "source": [
    "import keras\n",
    "from keras.models import Sequential\n",
    "from keras.layers import Dense, Dropout"
   ]
  },
  {
   "cell_type": "code",
   "execution_count": 14,
   "id": "a30ed096",
   "metadata": {},
   "outputs": [
    {
     "name": "stderr",
     "output_type": "stream",
     "text": [
      "2022-10-18 23:12:47.347960: I tensorflow/core/platform/cpu_feature_guard.cc:193] This TensorFlow binary is optimized with oneAPI Deep Neural Network Library (oneDNN) to use the following CPU instructions in performance-critical operations:  AVX2 AVX512F AVX512_VNNI FMA\n",
      "To enable them in other operations, rebuild TensorFlow with the appropriate compiler flags.\n"
     ]
    }
   ],
   "source": [
    "classifier = Sequential()"
   ]
  },
  {
   "cell_type": "code",
   "execution_count": 22,
   "id": "cfad29e4",
   "metadata": {},
   "outputs": [],
   "source": [
    "classifier.add(Dense(activation=\"relu\", input_dim=10, units=8, kernel_initializer=\"uniform\"))\n",
    "classifier.add(Dropout(rate=0.1))"
   ]
  },
  {
   "cell_type": "code",
   "execution_count": 23,
   "id": "95320d6f",
   "metadata": {},
   "outputs": [],
   "source": [
    "classifier.add(Dense(activation=\"relu\", units=8, kernel_initializer=\"uniform\"))\n",
    "classifier.add(Dropout(rate=0.1))"
   ]
  },
  {
   "cell_type": "code",
   "execution_count": 25,
   "id": "bca7c9f6",
   "metadata": {},
   "outputs": [],
   "source": [
    "classifier.add(Dense(activation=\"sigmoid\", units=1, kernel_initializer=\"uniform\"))"
   ]
  },
  {
   "cell_type": "code",
   "execution_count": 26,
   "id": "32c9efad",
   "metadata": {},
   "outputs": [],
   "source": [
    "classifier.compile(optimizer='adam', loss='binary_crossentropy', metrics=['accuracy'])"
   ]
  },
  {
   "cell_type": "code",
   "execution_count": 28,
   "id": "2699e06b",
   "metadata": {},
   "outputs": [
    {
     "name": "stdout",
     "output_type": "stream",
     "text": [
      "Epoch 1/150\n",
      "5/5 [==============================] - 1s 2ms/step - loss: 0.6929 - accuracy: 0.6374\n",
      "Epoch 2/150\n",
      "5/5 [==============================] - 0s 2ms/step - loss: 0.6922 - accuracy: 0.6374\n",
      "Epoch 3/150\n",
      "5/5 [==============================] - 0s 2ms/step - loss: 0.6915 - accuracy: 0.6374\n",
      "Epoch 4/150\n",
      "5/5 [==============================] - 0s 3ms/step - loss: 0.6908 - accuracy: 0.6374\n",
      "Epoch 5/150\n",
      "5/5 [==============================] - 0s 2ms/step - loss: 0.6901 - accuracy: 0.6374\n",
      "Epoch 6/150\n",
      "5/5 [==============================] - 0s 3ms/step - loss: 0.6894 - accuracy: 0.6374\n",
      "Epoch 7/150\n",
      "5/5 [==============================] - 0s 2ms/step - loss: 0.6886 - accuracy: 0.6374\n",
      "Epoch 8/150\n",
      "5/5 [==============================] - 0s 3ms/step - loss: 0.6879 - accuracy: 0.6374\n",
      "Epoch 9/150\n",
      "5/5 [==============================] - 0s 2ms/step - loss: 0.6871 - accuracy: 0.6374\n",
      "Epoch 10/150\n",
      "5/5 [==============================] - 0s 3ms/step - loss: 0.6864 - accuracy: 0.6374\n",
      "Epoch 11/150\n",
      "5/5 [==============================] - 0s 2ms/step - loss: 0.6855 - accuracy: 0.6374\n",
      "Epoch 12/150\n",
      "5/5 [==============================] - 0s 2ms/step - loss: 0.6847 - accuracy: 0.6374\n",
      "Epoch 13/150\n",
      "5/5 [==============================] - 0s 2ms/step - loss: 0.6840 - accuracy: 0.6374\n",
      "Epoch 14/150\n",
      "5/5 [==============================] - 0s 2ms/step - loss: 0.6830 - accuracy: 0.6374\n",
      "Epoch 15/150\n",
      "5/5 [==============================] - 0s 3ms/step - loss: 0.6823 - accuracy: 0.6374\n",
      "Epoch 16/150\n",
      "5/5 [==============================] - 0s 3ms/step - loss: 0.6812 - accuracy: 0.6374\n",
      "Epoch 17/150\n",
      "5/5 [==============================] - 0s 3ms/step - loss: 0.6805 - accuracy: 0.6374\n",
      "Epoch 18/150\n",
      "5/5 [==============================] - 0s 3ms/step - loss: 0.6796 - accuracy: 0.6374\n",
      "Epoch 19/150\n",
      "5/5 [==============================] - 0s 3ms/step - loss: 0.6783 - accuracy: 0.6374\n",
      "Epoch 20/150\n",
      "5/5 [==============================] - 0s 3ms/step - loss: 0.6780 - accuracy: 0.6374\n",
      "Epoch 21/150\n",
      "5/5 [==============================] - 0s 3ms/step - loss: 0.6762 - accuracy: 0.6374\n",
      "Epoch 22/150\n",
      "5/5 [==============================] - 0s 3ms/step - loss: 0.6759 - accuracy: 0.6374\n",
      "Epoch 23/150\n",
      "5/5 [==============================] - 0s 2ms/step - loss: 0.6747 - accuracy: 0.6374\n",
      "Epoch 24/150\n",
      "5/5 [==============================] - 0s 3ms/step - loss: 0.6732 - accuracy: 0.6374\n",
      "Epoch 25/150\n",
      "5/5 [==============================] - 0s 2ms/step - loss: 0.6725 - accuracy: 0.6374\n",
      "Epoch 26/150\n",
      "5/5 [==============================] - 0s 3ms/step - loss: 0.6704 - accuracy: 0.6374\n",
      "Epoch 27/150\n",
      "5/5 [==============================] - 0s 2ms/step - loss: 0.6680 - accuracy: 0.6374\n",
      "Epoch 28/150\n",
      "5/5 [==============================] - 0s 3ms/step - loss: 0.6655 - accuracy: 0.6374\n",
      "Epoch 29/150\n",
      "5/5 [==============================] - 0s 3ms/step - loss: 0.6609 - accuracy: 0.6374\n",
      "Epoch 30/150\n",
      "5/5 [==============================] - 0s 2ms/step - loss: 0.6558 - accuracy: 0.6374\n",
      "Epoch 31/150\n",
      "5/5 [==============================] - 0s 3ms/step - loss: 0.6492 - accuracy: 0.6374\n",
      "Epoch 32/150\n",
      "5/5 [==============================] - 0s 3ms/step - loss: 0.6333 - accuracy: 0.6374\n",
      "Epoch 33/150\n",
      "5/5 [==============================] - 0s 2ms/step - loss: 0.6187 - accuracy: 0.6374\n",
      "Epoch 34/150\n",
      "5/5 [==============================] - 0s 2ms/step - loss: 0.5934 - accuracy: 0.6374\n",
      "Epoch 35/150\n",
      "5/5 [==============================] - 0s 3ms/step - loss: 0.5632 - accuracy: 0.6374\n",
      "Epoch 36/150\n",
      "5/5 [==============================] - 0s 3ms/step - loss: 0.5256 - accuracy: 0.6374\n",
      "Epoch 37/150\n",
      "5/5 [==============================] - 0s 3ms/step - loss: 0.4867 - accuracy: 0.6374\n",
      "Epoch 38/150\n",
      "5/5 [==============================] - 0s 2ms/step - loss: 0.4483 - accuracy: 0.6374\n",
      "Epoch 39/150\n",
      "5/5 [==============================] - 0s 3ms/step - loss: 0.4357 - accuracy: 0.6374\n",
      "Epoch 40/150\n",
      "5/5 [==============================] - 0s 3ms/step - loss: 0.4200 - accuracy: 0.6374\n",
      "Epoch 41/150\n",
      "5/5 [==============================] - 0s 2ms/step - loss: 0.4031 - accuracy: 0.6374\n",
      "Epoch 42/150\n",
      "5/5 [==============================] - 0s 2ms/step - loss: 0.3898 - accuracy: 0.6374\n",
      "Epoch 43/150\n",
      "5/5 [==============================] - 0s 3ms/step - loss: 0.3858 - accuracy: 0.6374\n",
      "Epoch 44/150\n",
      "5/5 [==============================] - 0s 2ms/step - loss: 0.3718 - accuracy: 0.6374\n",
      "Epoch 45/150\n",
      "5/5 [==============================] - 0s 2ms/step - loss: 0.3809 - accuracy: 0.6374\n",
      "Epoch 46/150\n",
      "5/5 [==============================] - 0s 2ms/step - loss: 0.3787 - accuracy: 0.6374\n",
      "Epoch 47/150\n",
      "5/5 [==============================] - 0s 2ms/step - loss: 0.3761 - accuracy: 0.6374\n",
      "Epoch 48/150\n",
      "5/5 [==============================] - 0s 2ms/step - loss: 0.3626 - accuracy: 0.6374\n",
      "Epoch 49/150\n",
      "5/5 [==============================] - 0s 2ms/step - loss: 0.3668 - accuracy: 0.6374\n",
      "Epoch 50/150\n",
      "5/5 [==============================] - 0s 3ms/step - loss: 0.3573 - accuracy: 0.6374\n",
      "Epoch 51/150\n",
      "5/5 [==============================] - 0s 2ms/step - loss: 0.3511 - accuracy: 0.6374\n",
      "Epoch 52/150\n",
      "5/5 [==============================] - 0s 3ms/step - loss: 0.3638 - accuracy: 0.6374\n",
      "Epoch 53/150\n",
      "5/5 [==============================] - 0s 2ms/step - loss: 0.3583 - accuracy: 0.6374\n",
      "Epoch 54/150\n",
      "5/5 [==============================] - 0s 2ms/step - loss: 0.3498 - accuracy: 0.6374\n",
      "Epoch 55/150\n",
      "5/5 [==============================] - 0s 2ms/step - loss: 0.3520 - accuracy: 0.6374\n",
      "Epoch 56/150\n",
      "5/5 [==============================] - 0s 2ms/step - loss: 0.3585 - accuracy: 0.6374\n",
      "Epoch 57/150\n",
      "5/5 [==============================] - 0s 2ms/step - loss: 0.3468 - accuracy: 0.6374\n",
      "Epoch 58/150\n",
      "5/5 [==============================] - 0s 2ms/step - loss: 0.3554 - accuracy: 0.6374\n",
      "Epoch 59/150\n",
      "5/5 [==============================] - 0s 3ms/step - loss: 0.3485 - accuracy: 0.6374\n",
      "Epoch 60/150\n",
      "5/5 [==============================] - 0s 2ms/step - loss: 0.3440 - accuracy: 0.6374\n",
      "Epoch 61/150\n",
      "5/5 [==============================] - 0s 2ms/step - loss: 0.3298 - accuracy: 0.6637\n",
      "Epoch 62/150\n",
      "5/5 [==============================] - 0s 2ms/step - loss: 0.3470 - accuracy: 0.9407\n",
      "Epoch 63/150\n",
      "5/5 [==============================] - 0s 2ms/step - loss: 0.3409 - accuracy: 0.9385\n",
      "Epoch 64/150\n",
      "5/5 [==============================] - 0s 2ms/step - loss: 0.3361 - accuracy: 0.9495\n",
      "Epoch 65/150\n",
      "5/5 [==============================] - 0s 2ms/step - loss: 0.3401 - accuracy: 0.9341\n",
      "Epoch 66/150\n",
      "5/5 [==============================] - 0s 2ms/step - loss: 0.3377 - accuracy: 0.9451\n",
      "Epoch 67/150\n",
      "5/5 [==============================] - 0s 2ms/step - loss: 0.3346 - accuracy: 0.9363\n",
      "Epoch 68/150\n",
      "5/5 [==============================] - 0s 2ms/step - loss: 0.3374 - accuracy: 0.9473\n",
      "Epoch 69/150\n",
      "5/5 [==============================] - 0s 2ms/step - loss: 0.3279 - accuracy: 0.9429\n",
      "Epoch 70/150\n",
      "5/5 [==============================] - 0s 2ms/step - loss: 0.3317 - accuracy: 0.9451\n",
      "Epoch 71/150\n",
      "5/5 [==============================] - 0s 2ms/step - loss: 0.3181 - accuracy: 0.9429\n",
      "Epoch 72/150\n",
      "5/5 [==============================] - 0s 2ms/step - loss: 0.3435 - accuracy: 0.9385\n",
      "Epoch 73/150\n",
      "5/5 [==============================] - 0s 2ms/step - loss: 0.3255 - accuracy: 0.9407\n",
      "Epoch 74/150\n",
      "5/5 [==============================] - 0s 3ms/step - loss: 0.3351 - accuracy: 0.9429\n",
      "Epoch 75/150\n",
      "5/5 [==============================] - 0s 3ms/step - loss: 0.3344 - accuracy: 0.9385\n",
      "Epoch 76/150\n",
      "5/5 [==============================] - 0s 3ms/step - loss: 0.3302 - accuracy: 0.9407\n",
      "Epoch 77/150\n",
      "5/5 [==============================] - 0s 2ms/step - loss: 0.3360 - accuracy: 0.9385\n",
      "Epoch 78/150\n",
      "5/5 [==============================] - 0s 3ms/step - loss: 0.3359 - accuracy: 0.9407\n",
      "Epoch 79/150\n",
      "5/5 [==============================] - 0s 2ms/step - loss: 0.3295 - accuracy: 0.9363\n",
      "Epoch 80/150\n",
      "5/5 [==============================] - 0s 2ms/step - loss: 0.3214 - accuracy: 0.9407\n",
      "Epoch 81/150\n",
      "5/5 [==============================] - 0s 3ms/step - loss: 0.3368 - accuracy: 0.9407\n",
      "Epoch 82/150\n",
      "5/5 [==============================] - 0s 2ms/step - loss: 0.3181 - accuracy: 0.9516\n",
      "Epoch 83/150\n",
      "5/5 [==============================] - 0s 2ms/step - loss: 0.3126 - accuracy: 0.9429\n",
      "Epoch 84/150\n"
     ]
    },
    {
     "name": "stdout",
     "output_type": "stream",
     "text": [
      "5/5 [==============================] - 0s 2ms/step - loss: 0.3127 - accuracy: 0.9407\n",
      "Epoch 85/150\n",
      "5/5 [==============================] - 0s 2ms/step - loss: 0.3179 - accuracy: 0.9385\n",
      "Epoch 86/150\n",
      "5/5 [==============================] - 0s 2ms/step - loss: 0.3315 - accuracy: 0.9451\n",
      "Epoch 87/150\n",
      "5/5 [==============================] - 0s 2ms/step - loss: 0.3239 - accuracy: 0.9473\n",
      "Epoch 88/150\n",
      "5/5 [==============================] - 0s 2ms/step - loss: 0.3139 - accuracy: 0.9319\n",
      "Epoch 89/150\n",
      "5/5 [==============================] - 0s 2ms/step - loss: 0.3120 - accuracy: 0.9385\n",
      "Epoch 90/150\n",
      "5/5 [==============================] - 0s 2ms/step - loss: 0.3195 - accuracy: 0.9429\n",
      "Epoch 91/150\n",
      "5/5 [==============================] - 0s 2ms/step - loss: 0.3143 - accuracy: 0.9429\n",
      "Epoch 92/150\n",
      "5/5 [==============================] - 0s 2ms/step - loss: 0.3158 - accuracy: 0.9407\n",
      "Epoch 93/150\n",
      "5/5 [==============================] - 0s 2ms/step - loss: 0.3135 - accuracy: 0.9363\n",
      "Epoch 94/150\n",
      "5/5 [==============================] - 0s 2ms/step - loss: 0.3207 - accuracy: 0.9363\n",
      "Epoch 95/150\n",
      "5/5 [==============================] - 0s 2ms/step - loss: 0.3081 - accuracy: 0.9385\n",
      "Epoch 96/150\n",
      "5/5 [==============================] - 0s 2ms/step - loss: 0.3061 - accuracy: 0.9363\n",
      "Epoch 97/150\n",
      "5/5 [==============================] - 0s 2ms/step - loss: 0.3131 - accuracy: 0.9341\n",
      "Epoch 98/150\n",
      "5/5 [==============================] - 0s 2ms/step - loss: 0.2986 - accuracy: 0.9407\n",
      "Epoch 99/150\n",
      "5/5 [==============================] - 0s 2ms/step - loss: 0.3074 - accuracy: 0.9385\n",
      "Epoch 100/150\n",
      "5/5 [==============================] - 0s 2ms/step - loss: 0.3071 - accuracy: 0.9473\n",
      "Epoch 101/150\n",
      "5/5 [==============================] - 0s 2ms/step - loss: 0.3024 - accuracy: 0.9495\n",
      "Epoch 102/150\n",
      "5/5 [==============================] - 0s 2ms/step - loss: 0.2887 - accuracy: 0.9495\n",
      "Epoch 103/150\n",
      "5/5 [==============================] - 0s 2ms/step - loss: 0.3177 - accuracy: 0.9451\n",
      "Epoch 104/150\n",
      "5/5 [==============================] - 0s 2ms/step - loss: 0.3038 - accuracy: 0.9385\n",
      "Epoch 105/150\n",
      "5/5 [==============================] - 0s 2ms/step - loss: 0.2991 - accuracy: 0.9473\n",
      "Epoch 106/150\n",
      "5/5 [==============================] - 0s 2ms/step - loss: 0.3051 - accuracy: 0.9495\n",
      "Epoch 107/150\n",
      "5/5 [==============================] - 0s 2ms/step - loss: 0.3061 - accuracy: 0.9451\n",
      "Epoch 108/150\n",
      "5/5 [==============================] - 0s 2ms/step - loss: 0.3074 - accuracy: 0.9516\n",
      "Epoch 109/150\n",
      "5/5 [==============================] - 0s 2ms/step - loss: 0.3052 - accuracy: 0.9385\n",
      "Epoch 110/150\n",
      "5/5 [==============================] - 0s 2ms/step - loss: 0.2946 - accuracy: 0.9495\n",
      "Epoch 111/150\n",
      "5/5 [==============================] - 0s 6ms/step - loss: 0.3107 - accuracy: 0.9495\n",
      "Epoch 112/150\n",
      "5/5 [==============================] - 0s 3ms/step - loss: 0.2981 - accuracy: 0.9385\n",
      "Epoch 113/150\n",
      "5/5 [==============================] - 0s 2ms/step - loss: 0.2934 - accuracy: 0.9429\n",
      "Epoch 114/150\n",
      "5/5 [==============================] - 0s 2ms/step - loss: 0.3041 - accuracy: 0.9451\n",
      "Epoch 115/150\n",
      "5/5 [==============================] - 0s 2ms/step - loss: 0.2897 - accuracy: 0.9363\n",
      "Epoch 116/150\n",
      "5/5 [==============================] - 0s 2ms/step - loss: 0.2885 - accuracy: 0.9429\n",
      "Epoch 117/150\n",
      "5/5 [==============================] - 0s 2ms/step - loss: 0.2984 - accuracy: 0.9429\n",
      "Epoch 118/150\n",
      "5/5 [==============================] - 0s 2ms/step - loss: 0.3050 - accuracy: 0.9495\n",
      "Epoch 119/150\n",
      "5/5 [==============================] - 0s 2ms/step - loss: 0.2987 - accuracy: 0.9451\n",
      "Epoch 120/150\n",
      "5/5 [==============================] - 0s 2ms/step - loss: 0.2986 - accuracy: 0.9451\n",
      "Epoch 121/150\n",
      "5/5 [==============================] - 0s 2ms/step - loss: 0.2946 - accuracy: 0.9429\n",
      "Epoch 122/150\n",
      "5/5 [==============================] - 0s 2ms/step - loss: 0.2919 - accuracy: 0.9429\n",
      "Epoch 123/150\n",
      "5/5 [==============================] - 0s 2ms/step - loss: 0.2991 - accuracy: 0.9451\n",
      "Epoch 124/150\n",
      "5/5 [==============================] - 0s 2ms/step - loss: 0.3049 - accuracy: 0.9473\n",
      "Epoch 125/150\n",
      "5/5 [==============================] - 0s 2ms/step - loss: 0.2984 - accuracy: 0.9495\n",
      "Epoch 126/150\n",
      "5/5 [==============================] - 0s 2ms/step - loss: 0.2813 - accuracy: 0.9407\n",
      "Epoch 127/150\n",
      "5/5 [==============================] - 0s 2ms/step - loss: 0.2972 - accuracy: 0.9473\n",
      "Epoch 128/150\n",
      "5/5 [==============================] - 0s 2ms/step - loss: 0.2921 - accuracy: 0.9451\n",
      "Epoch 129/150\n",
      "5/5 [==============================] - 0s 2ms/step - loss: 0.2893 - accuracy: 0.9451\n",
      "Epoch 130/150\n",
      "5/5 [==============================] - 0s 2ms/step - loss: 0.3035 - accuracy: 0.9407\n",
      "Epoch 131/150\n",
      "5/5 [==============================] - 0s 2ms/step - loss: 0.2839 - accuracy: 0.9473\n",
      "Epoch 132/150\n",
      "5/5 [==============================] - 0s 2ms/step - loss: 0.2844 - accuracy: 0.9429\n",
      "Epoch 133/150\n",
      "5/5 [==============================] - 0s 2ms/step - loss: 0.2900 - accuracy: 0.9473\n",
      "Epoch 134/150\n",
      "5/5 [==============================] - 0s 2ms/step - loss: 0.2918 - accuracy: 0.9473\n",
      "Epoch 135/150\n",
      "5/5 [==============================] - 0s 2ms/step - loss: 0.2954 - accuracy: 0.9429\n",
      "Epoch 136/150\n",
      "5/5 [==============================] - 0s 2ms/step - loss: 0.2854 - accuracy: 0.9495\n",
      "Epoch 137/150\n",
      "5/5 [==============================] - 0s 2ms/step - loss: 0.2928 - accuracy: 0.9407\n",
      "Epoch 138/150\n",
      "5/5 [==============================] - 0s 2ms/step - loss: 0.2765 - accuracy: 0.9407\n",
      "Epoch 139/150\n",
      "5/5 [==============================] - 0s 2ms/step - loss: 0.2828 - accuracy: 0.9451\n",
      "Epoch 140/150\n",
      "5/5 [==============================] - 0s 2ms/step - loss: 0.2842 - accuracy: 0.9451\n",
      "Epoch 141/150\n",
      "5/5 [==============================] - 0s 2ms/step - loss: 0.2774 - accuracy: 0.9473\n",
      "Epoch 142/150\n",
      "5/5 [==============================] - 0s 2ms/step - loss: 0.2747 - accuracy: 0.9429\n",
      "Epoch 143/150\n",
      "5/5 [==============================] - 0s 2ms/step - loss: 0.2753 - accuracy: 0.9473\n",
      "Epoch 144/150\n",
      "5/5 [==============================] - 0s 2ms/step - loss: 0.2810 - accuracy: 0.9473\n",
      "Epoch 145/150\n",
      "5/5 [==============================] - 0s 2ms/step - loss: 0.2865 - accuracy: 0.9473\n",
      "Epoch 146/150\n",
      "5/5 [==============================] - 0s 2ms/step - loss: 0.2709 - accuracy: 0.9495\n",
      "Epoch 147/150\n",
      "5/5 [==============================] - 0s 2ms/step - loss: 0.2818 - accuracy: 0.9473\n",
      "Epoch 148/150\n",
      "5/5 [==============================] - 0s 2ms/step - loss: 0.2780 - accuracy: 0.9473\n",
      "Epoch 149/150\n",
      "5/5 [==============================] - 0s 2ms/step - loss: 0.2719 - accuracy: 0.9495\n",
      "Epoch 150/150\n",
      "5/5 [==============================] - 0s 2ms/step - loss: 0.2756 - accuracy: 0.9429\n"
     ]
    },
    {
     "data": {
      "text/plain": [
       "<keras.callbacks.History at 0x7fc9151fe0a0>"
      ]
     },
     "execution_count": 28,
     "metadata": {},
     "output_type": "execute_result"
    }
   ],
   "source": [
    "classifier.fit(X_train, y_train, batch_size=100, epochs=150)"
   ]
  },
  {
   "cell_type": "code",
   "execution_count": 29,
   "id": "621bfe34",
   "metadata": {},
   "outputs": [
    {
     "name": "stdout",
     "output_type": "stream",
     "text": [
      "4/4 [==============================] - 0s 1ms/step\n"
     ]
    }
   ],
   "source": [
    "y_pred = classifier.predict(X_test)\n",
    "y_pred = (y_pred > 0.5)"
   ]
  },
  {
   "cell_type": "code",
   "execution_count": 34,
   "id": "0e3481d9",
   "metadata": {},
   "outputs": [
    {
     "data": {
      "text/plain": [
       "(114,)"
      ]
     },
     "execution_count": 34,
     "metadata": {},
     "output_type": "execute_result"
    }
   ],
   "source": [
    "from sklearn.metrics import confusion_matrix\n",
    "cm = confusion_matrix(y_test, y_pred)\n",
    "y_test.shape"
   ]
  },
  {
   "cell_type": "code",
   "execution_count": 35,
   "id": "ecad18d6",
   "metadata": {},
   "outputs": [
    {
     "name": "stdout",
     "output_type": "stream",
     "text": [
      "Our accuracy is 89.47368421052632%\n"
     ]
    }
   ],
   "source": [
    "print(\"Our accuracy is {}%\".format(((cm[0][0] + cm[1][1])/114)*100))"
   ]
  },
  {
   "cell_type": "code",
   "execution_count": 32,
   "id": "66318cb9",
   "metadata": {},
   "outputs": [
    {
     "data": {
      "image/png": "[encoded data removed]",
      "text/plain": [
       "<Figure size 432x288 with 2 Axes>"
      ]
     },
     "metadata": {
      "needs_background": "light"
     },
     "output_type": "display_data"
    }
   ],
   "source": [
    "sns.heatmap(cm,annot=True)\n",
    "plt.savefig('h.png')"
   ]
  },
  {
   "cell_type": "code",
   "execution_count": null,
   "id": "14a6e7ce",
   "metadata": {},
   "outputs": [],
   "source": []
  }
 ],
 "metadata": {
  "kernelspec": {
   "display_name": "Python 3 (ipykernel)",
   "language": "python",
   "name": "python3"
  },
  "language_info": {
   "codemirror_mode": {
    "name": "ipython",
    "version": 3
   },
   "file_extension": ".py",
   "mimetype": "text/x-python",
   "name": "python",
   "nbconvert_exporter": "python",
   "pygments_lexer": "ipython3",
   "version": "3.9.12"
  }
 },
 "nbformat": 4,
 "nbformat_minor": 5
}
